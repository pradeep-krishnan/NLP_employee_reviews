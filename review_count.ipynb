{
 "cells": [
  {
   "cell_type": "code",
   "execution_count": 1,
   "metadata": {
    "collapsed": true
   },
   "outputs": [],
   "source": [
    "import urllib\n",
    "import requests\n",
    "import bs4\n",
    "from bs4 import BeautifulSoup\n",
    "import pandas as pd\n",
    "import re\n",
    "from time import sleep\n",
    "import urllib.request\n",
    "import numpy as np"
   ]
  },
  {
   "cell_type": "code",
   "execution_count": 51,
   "metadata": {
    "collapsed": true
   },
   "outputs": [],
   "source": [
    "with open('fortune1000_1.csv', 'rb') as f:\n",
    "  text = f.read()"
   ]
  },
  {
   "cell_type": "code",
   "execution_count": 52,
   "metadata": {},
   "outputs": [
    {
     "data": {
      "text/plain": [
       "b\"title\\r\\nWalmart\\r\\nExxon Mobil\\r\\nBerkshire Hathaway\\r\\nApple\\r\\nUnitedHealth Group\\r\\nMcKesson\\r\\nCVS Health\\r\\nAmazon.com\\r\\nAT&T\\r\\nGeneral Motors\\r\\nFord Motor\\r\\nAmerisourceBergen\\r\\nChevron\\r\\nCardinal Health\\r\\nCostco\\r\\nVerizon\\r\\nKroger\\r\\nGeneral Electric\\r\\nWalgreens Boots Alliance\\r\\nJPMorgan Chase\\r\\nFannie Mae\\r\\nAlphabet\\r\\nHome Depot\\r\\nBank of America Corp.\\r\\nExpress Scripts Holding\\r\\nWells Fargo\\r\\nBoeing\\r\\nPhillips 66\\r\\nAnthem\\r\\nMicrosoft\\r\\nValero Energy\\r\\nCitigroup\\r\\nComcast\\r\\nIBM\\r\\nDell Technologies\\r\\nState Farm Insurance Cos.\\r\\nJohnson & Johnson\\r\\nFreddie Mac\\r\\nTarget\\r\\nLowes\\r\\nMarathon Petroleum\\r\\nProcter & Gamble\\r\\nMetLife\\r\\nUPS\\r\\nPepsiCo\\r\\nIntel\\r\\nDowDuPont\\r\\nArcher Daniels Midland\\r\\nAetna\\r\\nFedEx\\r\\nUnited Technologies\\r\\nPrudential Financial\\r\\nAlbertsons Cos.\\r\\nSysco\\r\\nDisney\\r\\nHumana\\r\\nPfizer\\r\\nHP\\r\\nLockheed Martin\\r\\nAIG\\r\\nCentene\\r\\nCisco Systems\\r\\nHCA Healthcare\\r\\nEnergy Transfer Equity\\r\\nCaterpillar\\r\\nNationwide\\r\\nMorgan Stanley\\r\\nLiberty Mutual Insurance Group\\r\\nNew York Life Insurance\\r\\nGoldman Sachs Group\\r\\nAmerican Airlines Group\\r\\nBest Buy\\r\\nCigna\\r\\nCharter Communications\\r\\nDelta Air Lines\\r\\nFacebook\\r\\nHoneywell International\\r\\nMerck\\r\\nAllstate\\r\\nTyson Foods\\r\\nUnited Continental Holdings\\r\\nOracle\\r\\nTech Data\\r\\nTIAA\\r\\nTJX\\r\\nAmerican Express\\r\\nCoca-Cola\\r\\nPublix Super Markets\\r\\nNike\\r\\nAndeavor\\r\\nWorld Fuel Services\\r\\nExelon\\r\\nMassachusetts Mutual Life Insurance\\r\\nRite Aid\\r\\nConocoPhillips\\r\\nCHS\\r\\n3M\\r\\nTime Warner\\r\\nGeneral Dynamics\\r\\nUSAA\\r\\nCapital One Financial\\r\\nDeere\\r\\nINTL FCStone\\r\\nNorthwestern Mutual\\r\\nEnterprise Products Partners\\r\\nTravelers Cos.\\r\\nHewlett Packard Enterprise\\r\\nPhilip Morris International\\r\\nTwenty-First Century Fox\\r\\nAbbVie\\r\\nAbbott Laboratories\\r\\nProgressive\\r\\nArrow Electronics\\r\\nKraft Heinz\\r\\nPlains GP Holdings\\r\\nGilead Sciences\\r\\nMondelez International\\r\\nNorthrop Grumman\\r\\nRaytheon\\r\\nMacys\\r\\nUS Foods Holding\\r\\nU.S. Bancorp\\r\\nDollar General\\r\\nInternational Paper\\r\\nDuke Energy\\r\\nSouthern\\r\\nMarriott International\\r\\nAvnet\\r\\nEli Lilly\\r\\nAmgen\\r\\nMcDonalds\\r\\nStarbucks\\r\\nQualcomm\\r\\nDollar Tree\\r\\nPBF Energy\\r\\nIcahn Enterprises\\r\\nAflac\\r\\nAutoNation\\r\\nPenske Automotive Group\\r\\nWhirlpool\\r\\nUnion Pacific\\r\\nSouthwest Airlines\\r\\nManpowerGroup\\r\\nThermo Fisher Scientific\\r\\nBristol-Myers Squibb\\r\\nHalliburton\\r\\nTenet Healthcare\\r\\nLear\\r\\nCummins\\r\\nMicron Technology\\r\\nNucor\\r\\nMolina Healthcare\\r\\nFluor\\r\\nAltria Group\\r\\nPaccar\\r\\nHartford Financial Services\\r\\nKohls\\r\\nWestern Digital\\r\\nJabil\\r\\nCommunity Health Systems\\r\\nVisa\\r\\nDanaher\\r\\nKimberly-Clark\\r\\nAECOM\\r\\nPNC Financial Services\\r\\nCenturyLink\\r\\nNextEra Energy\\r\\nPG& E Corp.\\r\\nSynnex\\r\\nWellCare Health Plans\\r\\nPerformance Food Group\\r\\nSears Holdings\\r\\nSynchrony Financial\\r\\nCarMax\\r\\nBank of New York Mellon\\r\\nFreeport-McMoRan\\r\\nGenuine Parts\\r\\nEmerson Electric\\r\\nDaVita\\r\\nSupervalu\\r\\nGap\\r\\nGeneral Mills\\r\\nNordstrom\\r\\nColgate-Palmolive\\r\\nAmerican Electric Power\\r\\nXPO Logistics\\r\\nGoodyear Tire & Rubber\\r\\nOmnicom Group\\r\\nCDW\\r\\nSherwin-Williams\\r\\nPPG Industries\\r\\nTexas Instruments\\r\\nC.H. Robinson Worldwide\\r\\nWestRock\\r\\nCognizant Technology Solutions\\r\\nNewell Brands\\r\\nCBS\\r\\nEnvision Healthcare\\r\\nMonsanto\\r\\nAramark\\r\\nApplied Materials\\r\\nWaste Management\\r\\nDISH Network\\r\\nIllinois Tool Works\\r\\nLincoln National\\r\\nHollyFrontier\\r\\nCBRE Group\\r\\nTextron\\r\\nRoss Stores\\r\\nPrincipal Financial\\r\\nD.R. Horton\\r\\nMarsh & McLennan\\r\\nDevon Energy\\r\\nAES\\r\\nEcolab\\r\\nLand O'Lakes\\r\\nLoews\\r\\nKinder Morgan\\r\\nFirstEnergy\\r\\nOccidental Petroleum\\r\\nViacom\\r\\nPayPal Holdings\\r\\nNGL Energy Partners\\r\\nCelgene\\r\\nArconic\\r\\nKellogg\\r\\nLas Vegas Sands\\r\\nStanley Black & Decker\\r\\nBooking Holdings\\r\\nLennar\\r\\nL Brands\\r\\nDTE Energy\\r\\nDominion Energy\\r\\nReinsurance Group of America\\r\\nJ.C. Penney\\r\\nMastercard\\r\\nBlackRock\\r\\nHenry Schein\\r\\nGuardian Life Ins. Co. of America\\r\\nStryker\\r\\nJefferies Financial Group\\r\\nVF\\r\\nADP\\r\\nEdison International\\r\\nBiogen\\r\\nUnited States Steel\\r\\nCore-Mark Holding\\r\\nBed Bath & Beyond\\r\\nOneok\\r\\nBB& T Corp.\\r\\nBecton Dickinson\\r\\nAmeriprise Financial\\r\\nFarmers Insurance Exchange\\r\\nFirst Data\\r\\nConsolidated Edison\\r\\nParker-Hannifin\\r\\nAnadarko Petroleum\\r\\nEstee Lauder\\r\\nState Street Corp.\\r\\nTesla\\r\\nNetflix\\r\\nAlcoa\\r\\nDiscover Financial Services\\r\\nPraxair\\r\\nCSX\\r\\nXcel Energy\\r\\nUnum Group\\r\\nUniversal Health Services\\r\\nNRG Energy\\r\\nEOG Resources\\r\\nSempra Energy\\r\\nToys 'R'\\x9d Us\\r\\nGroup 1 Automotive\\r\\nEntergy\\r\\nMolson Coors Brewing\\r\\nL3 Technologies\\r\\nBall\\r\\nAutoZone\\r\\nMurphy USA\\r\\nMGM Resorts International\\r\\nOffice Depot\\r\\nHuntsman\\r\\nBaxter International\\r\\nNorfolk Southern\\r\\nsalesforce.com\\r\\nLaboratory Corp. of America\\r\\nW.W. Grainger\\r\\nQurate Retail\\r\\nAutoliv\\r\\nLive Nation Entertainment\\r\\nXerox\\r\\nLeidos Holdings\\r\\nCorning\\r\\nLithia Motors\\r\\nExpedia Group\\r\\nRepublic Services\\r\\nJacobs Engineering Group\\r\\nSonic Automotive\\r\\nAlly Financial\\r\\nLKQ\\r\\nBorgWarner\\r\\nFidelity National Financial\\r\\nSunTrust Banks\\r\\nIQVIA Holdings\\r\\nReliance Steel & Aluminum\\r\\nNvidia\\r\\nVoya Financial\\r\\nCenterPoint Energy\\r\\neBay\\r\\nEastman Chemical\\r\\nAmerican Family Insurance Group\\r\\nSteel Dynamics\\r\\nPacific Life\\r\\nChesapeake Energy\\r\\nMohawk Industries\\r\\nQuanta Services\\r\\nAdvance Auto Parts\\r\\nOwens & Minor\\r\\nUnited Natural Foods\\r\\nTenneco\\r\\nConagra Brands\\r\\nGameStop\\r\\nHormel Foods\\r\\nHilton Worldwide Holdings\\r\\nFrontier Communications\\r\\nFidelity National Information Services\\r\\nPublic Service Enterprise Group\\r\\nBoston Scientific\\r\\nOReilly Automotive\\r\\nCharles Schwab\\r\\nGlobal Partners\\r\\nPVH\\r\\nAvis Budget Group\\r\\nTarga Resources\\r\\nHertz Global Holdings\\r\\nCalpine\\r\\nMutual of Omaha Insurance\\r\\nCrown Holdings\\r\\nPeter Kiewit Sons\\r\\nDicks Sporting Goods\\r\\nPulteGroup\\r\\nNavistar International\\r\\nThrivent Financial for Lutherans\\r\\nDCP Midstream\\r\\nAir Products & Chemicals\\r\\nVeritiv\\r\\nAGCO\\r\\nGenworth Financial\\r\\nUnivar\\r\\nNews Corp.\\r\\nSpartanNash\\r\\nWestlake Chemical\\r\\nWilliams\\r\\nLam Research\\r\\nAlaska Air Group\\r\\nJones Lang LaSalle\\r\\nAnixter International\\r\\nCampbell Soup\\r\\nInterpublic Group\\r\\nDover\\r\\nZimmer Biomet Holdings\\r\\nDean Foods\\r\\nFoot Locker\\r\\nEversource Energy\\r\\nAlliance Data Systems\\r\\nFifth Third Bancorp\\r\\nQuest Diagnostics\\r\\nEMCOR Group\\r\\nW.R. Berkley\\r\\nWESCO International\\r\\nCoty\\r\\nWEC Energy Group\\r\\nMasco\\r\\nDXC Technology\\r\\nAuto-Owners Insurance\\r\\nJones Financial (Edward Jones)\\r\\nLiberty Media\\r\\nErie Insurance Group\\r\\nHershey\\r\\nPPL\\r\\nHuntington Ingalls Industries\\r\\nMosaic\\r\\nJ.M. Smucker\\r\\nDelek US Holdings\\r\\nNewmont Mining\\r\\nConstellation Brands\\r\\nRyder System\\r\\nNational Oilwell Varco\\r\\nAdobe Systems\\r\\nLifePoint Health\\r\\nTractor Supply\\r\\nThor Industries\\r\\nDana\\r\\nWeyerhaeuser\\r\\nJ.B. Hunt Transport Services\\r\\nDarden Restaurants\\r\\nYum China Holdings\\r\\nBlackstone Group\\r\\nBerry Global Group\\r\\nBuilders FirstSource\\r\\nActivision Blizzard\\r\\nJetBlue Airways\\r\\nAmphenol\\r\\nA-Mark Precious Metals\\r\\nSpirit AeroSystems Holdings\\r\\nR.R. Donnelley & Sons\\r\\nHarris\\r\\nExpeditors Intl. of Washington\\r\\nDiscovery\\r\\nOwens-Illinois\\r\\nSanmina\\r\\nKeyCorp\\r\\nAmerican Financial Group\\r\\nOshkosh\\r\\nRockwell Collins\\r\\nKindred Healthcare\\r\\nInsight Enterprises\\r\\nDr Pepper Snapple Group\\r\\nAmerican Tower\\r\\nFortive\\r\\nRalph Lauren\\r\\nHRG Group\\r\\nAscena Retail Group\\r\\nUnited Rentals\\r\\nCaseys General Stores\\r\\nGraybar Electric\\r\\nAvery Dennison\\r\\nMasTec\\r\\nCMS Energy\\r\\nHD Supply Holdings\\r\\nRaymond James Financial\\r\\nNCR\\r\\nHanesbrands\\r\\nAsbury Automotive Group\\r\\nCitizens Financial Group\\r\\nPackaging Corp. of America\\r\\nAlleghany\\r\\nApache\\r\\nDillards\\r\\nAssurant\\r\\nFranklin Resources\\r\\nOwens Corning\\r\\nMotorola Solutions\\r\\nNVR\\r\\nRockwell Automation\\r\\nTreeHouse Foods\\r\\nWynn Resorts\\r\\nOlin\\r\\nAmerican Axle & Manufacturing\\r\\nOld Republic International\\r\\nChemours\\r\\niHeartMedia\\r\\nAmeren\\r\\nArthur J. Gallagher\\r\\nCelanese\\r\\nSealed Air\\r\\nUGI\\r\\nRealogy Holdings\\r\\nBurlington Stores\\r\\nRegions Financial\\r\\nAK Steel Holding\\r\\nSecurian Financial Group\\r\\nS& P Global\\r\\nMarkel\\r\\nTravelCenters of America\\r\\nConduent\\r\\nM& T Bank Corp.\\r\\nClorox\\r\\nAmTrust Financial Services\\r\\nKKR\\r\\nUlta Beauty\\r\\nYum Brands\\r\\nRegeneron Pharmaceuticals\\r\\nWindstream Holdings\\r\\nMagellan Health\\r\\nWestern & Southern Financial\\r\\nIntercontinental Exchange\\r\\nIngredion\\r\\nWyndham Destinations\\r\\nToll Brothers\\r\\nSeaboard\\r\\nBooz Allen Hamilton\\r\\nFirst American Financial\\r\\nCincinnati Financial\\r\\nAvon Products\\r\\nNorthern Trust\\r\\nFiserv\\r\\nHarley-Davidson\\r\\nCheniere Energy\\r\\nPatterson\\r\\nPeabody Energy\\r\\nON Semiconductor\\r\\nSimon Property Group\\r\\nWestern Union\\r\\nNetApp\\r\\nPolaris Industries\\r\\nPioneer Natural Resources\\r\\nABM Industries\\r\\nVistra Energy\\r\\nCintas\\r\\nHess\\r\\nHost Hotels & Resorts\\r\\nKelly Services\\r\\nGenesis Healthcare\\r\\nMichaels Cos.\\r\\nAdvanced Micro Devices\\r\\nZoetis\\r\\nWilliams-Sonoma\\r\\nFortune Brands Home & Security\\r\\nBig Lots\\r\\nRobert Half International\\r\\nPost Holdings\\r\\nHasbro\\r\\nHanover Insurance Group\\r\\nNavient\\r\\nIntuit\\r\\nDomtar\\r\\nMarathon Oil\\r\\nCerner\\r\\nAnalog Devices\\r\\nTelephone & Data Systems\\r\\nEssendant\\r\\nSonoco Products\\r\\nJuniper Networks\\r\\nCommercial Metals\\r\\nCSRA\\r\\nUnder Armour\\r\\nRPM International\\r\\nTotal System Services\\r\\nLevi Strauss\\r\\nBrunswick\\r\\nYRC Worldwide\\r\\nMattel\\r\\nFM Global\\r\\nNiSource\\r\\nCaesars Entertainment\\r\\nElectronic Arts\\r\\nDynegy\\r\\nMcCormick\\r\\nT. Rowe Price\\r\\nOrbital ATK\\r\\nTutor Perini\\r\\nBrookdale Senior Living\\r\\nHuntington Bancshares\\r\\nWayfair\\r\\nRush Enterprises\\r\\nXylem\\r\\nNeiman Marcus Group\\r\\nHyatt Hotels\\r\\nSprouts Farmers Market\\r\\nDiebold Nixdorf\\r\\nRoper Technologies\\r\\nSmart & Final Stores\\r\\nCommScope Holding\\r\\nTapestry\\r\\nDiplomat Pharmacy\\r\\nChipotle Mexican Grill\\r\\nAgilent Technologies\\r\\nScience Applications International\\r\\nMDU Resources Group\\r\\nSelect Medical Holdings\\r\\nBoise Cascade\\r\\nNational General Holdings\\r\\nSCANA\\r\\nGraphic Packaging Holding\\r\\nFastenal\\r\\nSchneider National\\r\\nLaureate Education\\r\\nBeacon Roofing Supply\\r\\nKB Home\\r\\nEquinix\\r\\nTerex\\r\\nCrown Castle International\\r\\nCACI International\\r\\nWatsco\\r\\nCoca-Cola Bottling\\r\\nWelltower\\r\\nADT\\r\\nAmetek\\r\\nCNO Financial Group\\r\\nCamping World Holdings\\r\\nLPL Financial Holdings\\r\\nNoble Energy\\r\\nBloomin Brands\\r\\nMoodys\\r\\nSymantec\\r\\nAmkor Technology\\r\\nSkechers U.S.A.\\r\\nKBR\\r\\nTiffany\\r\\nTorchmark\\r\\nBroadridge Financial Solutions\\r\\nQuad/Graphics\\r\\nCF Industries Holdings\\r\\nCarlisle\\r\\nSilgan Holdings\\r\\nBemis\\r\\nCA\\r\\nHub Group\\r\\nWorldpay\\r\\nIngles Markets\\r\\nSnap-on\\r\\nDentsply Sirona\\r\\nCalumet Specialty Products\\r\\nGlobal Payments\\r\\nEncompass Health\\r\\nMartin Marietta Materials\\r\\nNasdaq\\r\\nLeggett & Platt\\r\\nUniversal Forest Products\\r\\nSally Beauty Holdings\\r\\nFlowers Foods\\r\\nBarnes & Noble\\r\\nAmerican Equity Investment Life\\r\\nVulcan Materials\\r\\nTaylor Morrison Home\\r\\nWestinghouse Air Brake\\r\\nCrestwood Equity Partners\\r\\nIron Mountain\\r\\nLennox International\\r\\nGeneral Cable\\r\\nAmerican Eagle Outfitters\\r\\nChurch & Dwight\\r\\nPlatform Specialty Products\\r\\nJELD-WEN Holding\\r\\nOneMain Holdings\\r\\nColfax\\r\\nZebra Technologies\\r\\nAndersons\\r\\nTD Ameritrade Holding\\r\\nCarlyle Group\\r\\nHubbell\\r\\nTrinity Industries\\r\\nDarling Ingredients\\r\\nFlowserve\\r\\nAntero Resources\\r\\nSkyworks Solutions\\r\\nLandstar System\\r\\nBuckeye Partners\\r\\nMRC Global\\r\\nCME Group\\r\\nGreif\\r\\nNexeo Solutions\\r\\nCooper-Standard Holdings\\r\\nUrban Outfitters\\r\\nLSC Communications\\r\\nSabre\\r\\nGreen Plains\\r\\nHexion\\r\\nStericycle\\r\\nWarner Music Group\\r\\nVentas\\r\\nScanSource\\r\\nPinnacle West Capital\\r\\nScripps Networks Interactive\\r\\nAlexion Pharmaceuticals\\r\\nPitney Bowes\\r\\nCIT Group\\r\\nCountry Financial\\r\\nCUNA Mutual Group\\r\\nTriumph Group\\r\\nTransDigm Group\\r\\nAllegheny Technologies\\r\\nResolute Forest Products\\r\\nAcuity Brands\\r\\nAbercrombie & Fitch\\r\\nKLA-Tencor\\r\\nWeis Markets\\r\\nPuget Energy\\r\\nMednax\\r\\nKar Auction Services\\r\\nPolyOne\\r\\nFMC\\r\\nEdwards Lifesciences\\r\\nMicrochip Technology\\r\\nAmerco\\r\\nMercury General\\r\\nAmerican National Insurance\\r\\nCarters\\r\\nInternational Flavors & Fragrances\\r\\nAarons\\r\\nAlliant Energy\\r\\nEQT\\r\\nMonster Beverage\\r\\nBMC Stock Holdings\\r\\nRyerson Holding\\r\\nEquifax\\r\\nRegal Beloit\\r\\nOld Dominion Freight Line\\r\\nAmerican Water Works\\r\\nBGC Partners\\r\\nBrinks\\r\\nMeritor\\r\\nSentry Insurance Group\\r\\nSanderson Farms\\r\\nKapStone Paper & Packaging\\r\\nGartner\\r\\nIAC/InterActiveCorp\\r\\nTailored Brands\\r\\nWABCO Holdings\\r\\nInsperity\\r\\nComerica\\r\\nTriNet Group\\r\\nAvaya Holdings\\r\\nAshland Global Holdings\\r\\nMeritage Homes\\r\\nSkyWest\\r\\nUSG\\r\\nSouthwestern Energy\\r\\nKeysight Technologies\\r\\nRegal Entertainment Group\\r\\nMutual of America Life Insurance\\r\\nPaychex\\r\\nBrinker International\\r\\nPenn National Gaming\\r\\nGannett\\r\\nVisteon\\r\\nPinnacle Foods\\r\\nIntuitive Surgical\\r\\nContinental Resources\\r\\nService Corp. International\\r\\nScientific Games\\r\\nAlbemarle\\r\\nAtmos Energy\\r\\nHologic\\r\\nH& R Block\\r\\nQorvo\\r\\nSteelcase\\r\\nUnivision Communications\\r\\nWorthington Industries\\r\\nTimken\\r\\nA.O. Smith\\r\\nPriceSmart\\r\\nStifel Financial\\r\\nBrown-Forman\\r\\nCinemark Holdings\\r\\nGranite Construction\\r\\nDycom Industries\\r\\nClean Harbors\\r\\nFirst Solar\\r\\nScotts Miracle-Gro\\r\\nCracker Barrel Old Country Store\\r\\nTriple-S Management\\r\\nFirst Republic Bank\\r\\nServiceMaster Global Holdings\\r\\nPC Connection\\r\\nGenesco\\r\\nMedical Mutual of Ohio\\r\\nMSC Industrial Direct\\r\\nLegg Mason\\r\\nHyster-Yale Materials Handling\\r\\nApollo Global Management\\r\\nCitrix Systems\\r\\nAcadia Healthcare\\r\\nVarian Medical Systems\\r\\nGroupon\\r\\nAleris\\r\\nSprague Resources\\r\\nCooper Tire & Rubber\\r\\nHain Celestial Group\\r\\nPenn Mutual Life Insurance\\r\\nColony NorthStar\\r\\nArcBest\\r\\nPresidio\\r\\nTRI Pointe Group\\r\\nAnnaly Capital Management\\r\\nG-III Apparel Group\\r\\nAMC Networks\\r\\nEnable Midstream Partners\\r\\nCiena\\r\\nDSW\\r\\nConvergys\\r\\nPark Hotels & Resorts\\r\\nPool\\r\\nFossil Group\\r\\nDominos Pizza\\r\\nCrane\\r\\nCaleres\\r\\nTempur Sealy International\\r\\nTetra Tech\\r\\nIllumina\\r\\nValmont Industries\\r\\nHill-Rom Holdings\\r\\nUnisys\\r\\nZions Bancorp.\\r\\nSinclair Broadcast Group\\r\\nLouisiana-Pacific\\r\\nMettler-Toledo International\\r\\nSynopsys\\r\\nKemper\\r\\nCabot\\r\\nGreat Plains Energy\\r\\nRent-A-Center\\r\\nHawaiian Holdings\\r\\nRevlon\\r\\nSyneos Health\\r\\nPublic Storage\\r\\nTTM Technologies\\r\\nVectren\\r\\nTrimble\\r\\nNOW\\r\\nSpirit Airlines\\r\\nASGN\\r\\nLincoln Electric Holdings\\r\\nPrologis\\r\\nRange Resources\\r\\nTeledyne Technologies\\r\\nVishay Intertechnology\\r\\nBoston Properties\\r\\nApplied Industrial Technologies\\r\\nGraham Holdings\\r\\nAmica Mutual Insurance\\r\\nConcho Resources\\r\\nITT\\r\\nKansas City Southern\\r\\nMDC Holdings\\r\\nEvergy\\r\\nPinnacle Entertainment\\r\\nHawaiian Electric Industries\\r\\nTEGNA\\r\\nSouthwest Gas Holdings\\r\\nVista Outdoor\\r\\nBon-Ton Stores\\r\\nSuper Micro Computer\\r\\nPlexus\\r\\nTrueBlue\\r\\nMagellan Midstream Partners\\r\\nToro\\r\\nAkamai Technologies\\r\\nMoog\\r\\nVertex Pharmaceuticals\\r\\nEquity Residential\\r\\nSelective Insurance Group\\r\\nAptarGroup\\r\\nBenchmark Electronics\\r\\nColumbia Sportswear\\r\\nA. Schulman\\r\\nVerso\\r\\nDigital Realty Trust\\r\\nGNC Holdings\\r\\nE*Trade Financial\\r\\nHovnanian Enterprises\\r\\nMaximus\\r\\nTwitter\\r\\nPar Pacific Holdings\\r\\nParexel International\\r\\nRH\\r\\nNexstar Media Group\\r\\nKnight-Swift Transportation Holdings\\r\\nRed Hat\\r\\nBelden\\r\\nBoyd Gaming\\r\\nPrimoris Services\\r\\nGardner Denver\\r\\nDonaldson\\r\\nParty City Holdco\\r\\nJ.Crew Group\\r\\nEnerSys\\r\\nGuess\\r\\nPatterson-UTI Energy\\r\\nWGL Holdings\\r\\nWolverine World Wide\\r\\nXilinx\\r\\nVornado Realty Trust\\r\\nMiddleby\\r\\nMPM Holdings\\r\\nCleveland-Cliffs\\r\\nGGP\\r\\nCypress Semiconductor\\r\\nArch Coal\\r\\nGMS\\r\\nWaters\\r\\nH.B. Fuller\\r\\nAffiliated Managers Group\\r\\nPerkinElmer\\r\\nEdgewell Personal Care\\r\\nMaxim Integrated Products\\r\\nKnights of Columbus\\r\\nIDEX\\r\\nDST Systems\\r\\nChicos FAS\\r\\nNu Skin Enterprises\\r\\nHerman Miller\\r\\nNLV Financial\\r\\nCurtiss-Wright\\r\\nNew Jersey Resources\\r\\nREV Group\\r\\nMueller Industries\\r\\nGEO Group\\r\\nAllison Transmission Holdings\\r\\nOGE Energy\\r\\nCheesecake Factory\\r\\nPRA Health Sciences\\r\\nTupperware Brands\\r\\nEuronet Worldwide\\r\\nFLEETCOR Technologies\\r\\nNationstar Mortgage Holdings\\r\\nGoDaddy\\r\\nBlackhawk Network Holdings\\r\\nCboe Global Markets\\r\\nSnyders-Lance\\r\\nMurphy Oil\\r\\nCDK Global\\r\\nTexas Roadhouse\\r\\nKirby\\r\\nSquare\\r\\nGenesee & Wyoming\\r\\nZayo Group Holdings\\r\\nNewMarket\\r\\n99 Cents Only Stores\\r\\nPCM\\r\\nFederated Mutual Insurance\\r\\nHNI\\r\\nHospitality Properties Trust\\r\\nGreenbrier Cos.\\r\\nBio-Rad Laboratories\\r\\nAvalonBay Communities\\r\\nRenewable Energy Group\\r\\nAtlas Air Worldwide Holdings\\r\\nTeradata\\r\\nLCI Industries\\r\\nTeleflex\\r\\nVerisk Analytics\\r\\nPopular\\r\\nWorkday\\r\\nCooper Cos.\\r\\nExpress\\r\\nTeradyne\\r\\nWerner Enterprises\\r\\nOaktree Capital Group\\r\\nWoodward\\r\\nF5 Networks\\r\\nValvoline\\r\\nRoadrunner Transportation Systems\\r\\nSemGroup\\r\\nCatalent\\r\\nQuorum Health\\r\\nUniversal\\r\\nNordson\\r\\nResMed\\r\\nTower International\\r\\nFreds\\r\\nFoundation Building Materials\\r\\nKennametal\\r\\nAutodesk\\r\\nPly Gem Holdings\\r\\nCentral Garden & Pet\\r\\nMatson\\r\\nEchoStar\\r\\nGenesis Energy\\r\\nSVB Financial Group\\r\\nItron\\r\\nPortland General Electric\\r\\nCalifornia Resources\\r\\nEsterline Technologies\\r\\nDelta Tucker Holdings\\r\\nAMN Healthcare Services\\r\\nGriffon\\r\\nValhi\\r\\nHexcel\\r\\nIDEXX Laboratories\\r\\nDeluxe\\r\\nM/I Homes\\r\\nKraton\\r\\nStewart Information Services\\r\\nMarriott Vacations Worldwide\\r\\nSPX FLOW\\r\\nACCO Brands\\r\\nEcho Global Logistics\\r\\nCadence Design Systems\\r\\nNuance Communications\\r\\nFinish Line\\r\\nTransUnion\\r\\nServiceNow\\r\\nSummit Materials\\r\\nEngility Holdings\\r\\nFerrellgas Partners\\r\\nInteractive Brokers Group\\r\\nStepan\\r\\nOceaneering International\\r\\nCimarex Energy\\r\\nRexnord\\r\\nBeazer Homes USA\\r\\nMKS Instruments\\r\\nVail Resorts\\r\\nOhio National Mutual\\r\\nTopBuild\\r\\nBrown & Brown\\r\\nAerojet Rocketdyne Holdings\\r\\nBarnes & Noble Education\\r\\nSuperior Energy Services\\r\\nVeriFone Systems\\r\\nChildrens Place\\r\\nTribune Media\\r\\nHealthcare Services Group\\r\\nSiteOne Landscape Supply\\r\\nCharles River Laboratories Intl\\r\\nCoreLogic\\r\\nEnsign Group\\r\\nHCP\\r\\n\""
      ]
     },
     "execution_count": 52,
     "metadata": {},
     "output_type": "execute_result"
    }
   ],
   "source": [
    "text"
   ]
  },
  {
   "cell_type": "code",
   "execution_count": null,
   "metadata": {
    "collapsed": true
   },
   "outputs": [],
   "source": []
  },
  {
   "cell_type": "code",
   "execution_count": null,
   "metadata": {
    "collapsed": true
   },
   "outputs": [],
   "source": []
  },
  {
   "cell_type": "code",
   "execution_count": 10,
   "metadata": {},
   "outputs": [],
   "source": [
    "text1 = str(text)\n",
    "co_list = text1.split(\"\\\\n\")\n",
    "co_list1 = [a.strip(\"\\\\r\") for a in co_list]\n",
    "company_list = co_list1[1:1001]"
   ]
  },
  {
   "cell_type": "code",
   "execution_count": 29,
   "metadata": {},
   "outputs": [
    {
     "data": {
      "text/plain": [
       "1000"
      ]
     },
     "execution_count": 29,
     "metadata": {},
     "output_type": "execute_result"
    }
   ],
   "source": [
    "len(company_list)"
   ]
  },
  {
   "cell_type": "code",
   "execution_count": null,
   "metadata": {
    "collapsed": true
   },
   "outputs": [],
   "source": []
  },
  {
   "cell_type": "code",
   "execution_count": 30,
   "metadata": {
    "collapsed": true
   },
   "outputs": [],
   "source": [
    "link = \"https://www.indeed.com/cmp/{}/reviews?start={}\"\n",
    "results = pd.DataFrame(columns=[])\n",
    "for company in company_list:\n",
    "    url = link.format(company, 0)\n",
    "    html = requests.get(url)\n",
    "    soup = BeautifulSoup(html.content, 'html.parser', from_encoding=\"utf-8\")\n",
    "    try:\n",
    "        result = soup.find('div', class_= \"turnstileInfo\").find('span', class_ = \"cmp-filter-result\").b.text\n",
    "    except:\n",
    "        result = None\n",
    "    results = results.append({'company' : company, 'reviews' : result}, ignore_index = True)"
   ]
  },
  {
   "cell_type": "code",
   "execution_count": 33,
   "metadata": {},
   "outputs": [
    {
     "name": "stderr",
     "output_type": "stream",
     "text": [
      "C:\\Anaconda\\Anaconda3\\lib\\site-packages\\ipykernel_launcher.py:1: SettingWithCopyWarning: \n",
      "A value is trying to be set on a copy of a slice from a DataFrame.\n",
      "Try using .loc[row_indexer,col_indexer] = value instead\n",
      "\n",
      "See the caveats in the documentation: http://pandas.pydata.org/pandas-docs/stable/indexing.html#indexing-view-versus-copy\n",
      "  \"\"\"Entry point for launching an IPython kernel.\n"
     ]
    }
   ],
   "source": [
    "results['reviews'] = results['reviews'].apply(lambda x: str(x).replace(\",\", \"\"))\n",
    "results = results.loc[results['reviews'] != 'None', :]\n",
    "results['reviews'] = pd.to_numeric(results['reviews'])\n",
    "#results = results.loc[results['reviews'] <1000, :].reset_index(drop=True)"
   ]
  },
  {
   "cell_type": "code",
   "execution_count": 31,
   "metadata": {
    "collapsed": true
   },
   "outputs": [],
   "source": [
    "#results1 = results"
   ]
  },
  {
   "cell_type": "code",
   "execution_count": 39,
   "metadata": {},
   "outputs": [
    {
     "ename": "ValueError",
     "evalue": "Unable to parse string \"None\" at position 10",
     "output_type": "error",
     "traceback": [
      "\u001b[1;31m---------------------------------------------------------------------------\u001b[0m",
      "\u001b[1;31mValueError\u001b[0m                                Traceback (most recent call last)",
      "\u001b[1;32mpandas/_libs/src/inference.pyx\u001b[0m in \u001b[0;36mpandas._libs.lib.maybe_convert_numeric\u001b[1;34m()\u001b[0m\n",
      "\u001b[1;31mValueError\u001b[0m: Unable to parse string \"None\"",
      "\nDuring handling of the above exception, another exception occurred:\n",
      "\u001b[1;31mValueError\u001b[0m                                Traceback (most recent call last)",
      "\u001b[1;32m<ipython-input-39-80890eecfad6>\u001b[0m in \u001b[0;36m<module>\u001b[1;34m()\u001b[0m\n\u001b[1;32m----> 1\u001b[1;33m \u001b[0mresults1\u001b[0m\u001b[1;33m[\u001b[0m\u001b[1;34m'reviews'\u001b[0m\u001b[1;33m]\u001b[0m \u001b[1;33m=\u001b[0m \u001b[0mpd\u001b[0m\u001b[1;33m.\u001b[0m\u001b[0mto_numeric\u001b[0m\u001b[1;33m(\u001b[0m\u001b[0mresults1\u001b[0m\u001b[1;33m[\u001b[0m\u001b[1;34m'reviews'\u001b[0m\u001b[1;33m]\u001b[0m\u001b[1;33m)\u001b[0m\u001b[1;33m\u001b[0m\u001b[0m\n\u001b[0m",
      "\u001b[1;32mC:\\Anaconda\\Anaconda3\\lib\\site-packages\\pandas\\core\\tools\\numeric.py\u001b[0m in \u001b[0;36mto_numeric\u001b[1;34m(arg, errors, downcast)\u001b[0m\n\u001b[0;32m    131\u001b[0m             \u001b[0mcoerce_numeric\u001b[0m \u001b[1;33m=\u001b[0m \u001b[1;32mFalse\u001b[0m \u001b[1;32mif\u001b[0m \u001b[0merrors\u001b[0m \u001b[1;32min\u001b[0m \u001b[1;33m(\u001b[0m\u001b[1;34m'ignore'\u001b[0m\u001b[1;33m,\u001b[0m \u001b[1;34m'raise'\u001b[0m\u001b[1;33m)\u001b[0m \u001b[1;32melse\u001b[0m \u001b[1;32mTrue\u001b[0m\u001b[1;33m\u001b[0m\u001b[0m\n\u001b[0;32m    132\u001b[0m             values = lib.maybe_convert_numeric(values, set(),\n\u001b[1;32m--> 133\u001b[1;33m                                                coerce_numeric=coerce_numeric)\n\u001b[0m\u001b[0;32m    134\u001b[0m \u001b[1;33m\u001b[0m\u001b[0m\n\u001b[0;32m    135\u001b[0m     \u001b[1;32mexcept\u001b[0m \u001b[0mException\u001b[0m\u001b[1;33m:\u001b[0m\u001b[1;33m\u001b[0m\u001b[0m\n",
      "\u001b[1;32mpandas/_libs/src/inference.pyx\u001b[0m in \u001b[0;36mpandas._libs.lib.maybe_convert_numeric\u001b[1;34m()\u001b[0m\n",
      "\u001b[1;31mValueError\u001b[0m: Unable to parse string \"None\" at position 10"
     ]
    }
   ],
   "source": [
    "results1['reviews'] = pd.to_numeric(results1['reviews'])"
   ]
  },
  {
   "cell_type": "code",
   "execution_count": 43,
   "metadata": {},
   "outputs": [],
   "source": [
    "results2 = results1[results1['reviews'] != 'None']"
   ]
  },
  {
   "cell_type": "code",
   "execution_count": 46,
   "metadata": {},
   "outputs": [
    {
     "name": "stderr",
     "output_type": "stream",
     "text": [
      "C:\\Anaconda\\Anaconda3\\lib\\site-packages\\ipykernel_launcher.py:1: SettingWithCopyWarning: \n",
      "A value is trying to be set on a copy of a slice from a DataFrame.\n",
      "Try using .loc[row_indexer,col_indexer] = value instead\n",
      "\n",
      "See the caveats in the documentation: http://pandas.pydata.org/pandas-docs/stable/indexing.html#indexing-view-versus-copy\n",
      "  \"\"\"Entry point for launching an IPython kernel.\n"
     ]
    }
   ],
   "source": [
    "results2['reviews'] = pd.to_numeric(results2['reviews'])"
   ]
  },
  {
   "cell_type": "code",
   "execution_count": 48,
   "metadata": {},
   "outputs": [
    {
     "data": {
      "text/plain": [
       "1518730"
      ]
     },
     "execution_count": 48,
     "metadata": {},
     "output_type": "execute_result"
    }
   ],
   "source": [
    "results2['reviews'].sum()"
   ]
  },
  {
   "cell_type": "code",
   "execution_count": 53,
   "metadata": {
    "collapsed": true
   },
   "outputs": [],
   "source": [
    "results2 = results2.sort_values(by = 'reviews', ascending = False).reset_index(drop=True)"
   ]
  },
  {
   "cell_type": "code",
   "execution_count": 54,
   "metadata": {},
   "outputs": [
    {
     "data": {
      "text/html": [
       "<div>\n",
       "<style scoped>\n",
       "    .dataframe tbody tr th:only-of-type {\n",
       "        vertical-align: middle;\n",
       "    }\n",
       "\n",
       "    .dataframe tbody tr th {\n",
       "        vertical-align: top;\n",
       "    }\n",
       "\n",
       "    .dataframe thead th {\n",
       "        text-align: right;\n",
       "    }\n",
       "</style>\n",
       "<table border=\"1\" class=\"dataframe\">\n",
       "  <thead>\n",
       "    <tr style=\"text-align: right;\">\n",
       "      <th></th>\n",
       "      <th>company</th>\n",
       "      <th>reviews</th>\n",
       "    </tr>\n",
       "  </thead>\n",
       "  <tbody>\n",
       "    <tr>\n",
       "      <th>0</th>\n",
       "      <td>Walmart</td>\n",
       "      <td>133876</td>\n",
       "    </tr>\n",
       "    <tr>\n",
       "      <th>1</th>\n",
       "      <td>McDonalds</td>\n",
       "      <td>83556</td>\n",
       "    </tr>\n",
       "    <tr>\n",
       "      <th>2</th>\n",
       "      <td>Home Depot</td>\n",
       "      <td>37468</td>\n",
       "    </tr>\n",
       "    <tr>\n",
       "      <th>3</th>\n",
       "      <td>Target</td>\n",
       "      <td>33481</td>\n",
       "    </tr>\n",
       "    <tr>\n",
       "      <th>4</th>\n",
       "      <td>AT&amp;T</td>\n",
       "      <td>29630</td>\n",
       "    </tr>\n",
       "    <tr>\n",
       "      <th>5</th>\n",
       "      <td>Wells Fargo</td>\n",
       "      <td>28660</td>\n",
       "    </tr>\n",
       "    <tr>\n",
       "      <th>6</th>\n",
       "      <td>Lowes</td>\n",
       "      <td>27877</td>\n",
       "    </tr>\n",
       "    <tr>\n",
       "      <th>7</th>\n",
       "      <td>Macys</td>\n",
       "      <td>26451</td>\n",
       "    </tr>\n",
       "    <tr>\n",
       "      <th>8</th>\n",
       "      <td>UPS</td>\n",
       "      <td>25272</td>\n",
       "    </tr>\n",
       "    <tr>\n",
       "      <th>9</th>\n",
       "      <td>CVS Health</td>\n",
       "      <td>24535</td>\n",
       "    </tr>\n",
       "    <tr>\n",
       "      <th>10</th>\n",
       "      <td>Amazon.com</td>\n",
       "      <td>21514</td>\n",
       "    </tr>\n",
       "    <tr>\n",
       "      <th>11</th>\n",
       "      <td>Starbucks</td>\n",
       "      <td>21390</td>\n",
       "    </tr>\n",
       "    <tr>\n",
       "      <th>12</th>\n",
       "      <td>Bank of America Corp.</td>\n",
       "      <td>21350</td>\n",
       "    </tr>\n",
       "    <tr>\n",
       "      <th>13</th>\n",
       "      <td>Sears Holdings</td>\n",
       "      <td>21125</td>\n",
       "    </tr>\n",
       "    <tr>\n",
       "      <th>14</th>\n",
       "      <td>Verizon</td>\n",
       "      <td>20219</td>\n",
       "    </tr>\n",
       "    <tr>\n",
       "      <th>15</th>\n",
       "      <td>Dollar General</td>\n",
       "      <td>18546</td>\n",
       "    </tr>\n",
       "    <tr>\n",
       "      <th>16</th>\n",
       "      <td>Best Buy</td>\n",
       "      <td>18483</td>\n",
       "    </tr>\n",
       "    <tr>\n",
       "      <th>17</th>\n",
       "      <td>JPMorgan Chase</td>\n",
       "      <td>18479</td>\n",
       "    </tr>\n",
       "    <tr>\n",
       "      <th>18</th>\n",
       "      <td>J.C. Penney</td>\n",
       "      <td>18221</td>\n",
       "    </tr>\n",
       "    <tr>\n",
       "      <th>19</th>\n",
       "      <td>FedEx</td>\n",
       "      <td>16518</td>\n",
       "    </tr>\n",
       "    <tr>\n",
       "      <th>20</th>\n",
       "      <td>Kohls</td>\n",
       "      <td>15916</td>\n",
       "    </tr>\n",
       "    <tr>\n",
       "      <th>21</th>\n",
       "      <td>Marriott International</td>\n",
       "      <td>14233</td>\n",
       "    </tr>\n",
       "    <tr>\n",
       "      <th>22</th>\n",
       "      <td>Comcast</td>\n",
       "      <td>12024</td>\n",
       "    </tr>\n",
       "    <tr>\n",
       "      <th>23</th>\n",
       "      <td>Dollar Tree</td>\n",
       "      <td>11922</td>\n",
       "    </tr>\n",
       "    <tr>\n",
       "      <th>24</th>\n",
       "      <td>UnitedHealth Group</td>\n",
       "      <td>11647</td>\n",
       "    </tr>\n",
       "    <tr>\n",
       "      <th>25</th>\n",
       "      <td>Publix Super Markets</td>\n",
       "      <td>11081</td>\n",
       "    </tr>\n",
       "    <tr>\n",
       "      <th>26</th>\n",
       "      <td>Kelly Services</td>\n",
       "      <td>11065</td>\n",
       "    </tr>\n",
       "    <tr>\n",
       "      <th>27</th>\n",
       "      <td>Aramark</td>\n",
       "      <td>10937</td>\n",
       "    </tr>\n",
       "    <tr>\n",
       "      <th>28</th>\n",
       "      <td>Dominos Pizza</td>\n",
       "      <td>10776</td>\n",
       "    </tr>\n",
       "    <tr>\n",
       "      <th>29</th>\n",
       "      <td>Charter Communications</td>\n",
       "      <td>10685</td>\n",
       "    </tr>\n",
       "    <tr>\n",
       "      <th>...</th>\n",
       "      <td>...</td>\n",
       "      <td>...</td>\n",
       "    </tr>\n",
       "    <tr>\n",
       "      <th>692</th>\n",
       "      <td>International Flavors &amp; Fragrances</td>\n",
       "      <td>19</td>\n",
       "    </tr>\n",
       "    <tr>\n",
       "      <th>693</th>\n",
       "      <td>Snap-on</td>\n",
       "      <td>19</td>\n",
       "    </tr>\n",
       "    <tr>\n",
       "      <th>694</th>\n",
       "      <td>Reinsurance Group of America</td>\n",
       "      <td>19</td>\n",
       "    </tr>\n",
       "    <tr>\n",
       "      <th>695</th>\n",
       "      <td>PriceSmart</td>\n",
       "      <td>18</td>\n",
       "    </tr>\n",
       "    <tr>\n",
       "      <th>696</th>\n",
       "      <td>Tempur Sealy International</td>\n",
       "      <td>18</td>\n",
       "    </tr>\n",
       "    <tr>\n",
       "      <th>697</th>\n",
       "      <td>Waters</td>\n",
       "      <td>18</td>\n",
       "    </tr>\n",
       "    <tr>\n",
       "      <th>698</th>\n",
       "      <td>Federated Mutual Insurance</td>\n",
       "      <td>13</td>\n",
       "    </tr>\n",
       "    <tr>\n",
       "      <th>699</th>\n",
       "      <td>CMS Energy</td>\n",
       "      <td>11</td>\n",
       "    </tr>\n",
       "    <tr>\n",
       "      <th>700</th>\n",
       "      <td>RH</td>\n",
       "      <td>11</td>\n",
       "    </tr>\n",
       "    <tr>\n",
       "      <th>701</th>\n",
       "      <td>SVB Financial Group</td>\n",
       "      <td>11</td>\n",
       "    </tr>\n",
       "    <tr>\n",
       "      <th>702</th>\n",
       "      <td>HRG Group</td>\n",
       "      <td>10</td>\n",
       "    </tr>\n",
       "    <tr>\n",
       "      <th>703</th>\n",
       "      <td>HCP</td>\n",
       "      <td>9</td>\n",
       "    </tr>\n",
       "    <tr>\n",
       "      <th>704</th>\n",
       "      <td>W.R. Berkley</td>\n",
       "      <td>9</td>\n",
       "    </tr>\n",
       "    <tr>\n",
       "      <th>705</th>\n",
       "      <td>Euronet Worldwide</td>\n",
       "      <td>8</td>\n",
       "    </tr>\n",
       "    <tr>\n",
       "      <th>706</th>\n",
       "      <td>NOW</td>\n",
       "      <td>8</td>\n",
       "    </tr>\n",
       "    <tr>\n",
       "      <th>707</th>\n",
       "      <td>Dove</td>\n",
       "      <td>6</td>\n",
       "    </tr>\n",
       "    <tr>\n",
       "      <th>708</th>\n",
       "      <td>KKR</td>\n",
       "      <td>6</td>\n",
       "    </tr>\n",
       "    <tr>\n",
       "      <th>709</th>\n",
       "      <td>Deere</td>\n",
       "      <td>5</td>\n",
       "    </tr>\n",
       "    <tr>\n",
       "      <th>710</th>\n",
       "      <td>IDEX</td>\n",
       "      <td>5</td>\n",
       "    </tr>\n",
       "    <tr>\n",
       "      <th>711</th>\n",
       "      <td>Middleby</td>\n",
       "      <td>5</td>\n",
       "    </tr>\n",
       "    <tr>\n",
       "      <th>712</th>\n",
       "      <td>DowDuPont</td>\n",
       "      <td>3</td>\n",
       "    </tr>\n",
       "    <tr>\n",
       "      <th>713</th>\n",
       "      <td>Lea</td>\n",
       "      <td>3</td>\n",
       "    </tr>\n",
       "    <tr>\n",
       "      <th>714</th>\n",
       "      <td>Westinghouse Air Brake</td>\n",
       "      <td>3</td>\n",
       "    </tr>\n",
       "    <tr>\n",
       "      <th>715</th>\n",
       "      <td>NewMarket</td>\n",
       "      <td>2</td>\n",
       "    </tr>\n",
       "    <tr>\n",
       "      <th>716</th>\n",
       "      <td>Fortive</td>\n",
       "      <td>2</td>\n",
       "    </tr>\n",
       "    <tr>\n",
       "      <th>717</th>\n",
       "      <td>Merito</td>\n",
       "      <td>2</td>\n",
       "    </tr>\n",
       "    <tr>\n",
       "      <th>718</th>\n",
       "      <td>Alphabet</td>\n",
       "      <td>1</td>\n",
       "    </tr>\n",
       "    <tr>\n",
       "      <th>719</th>\n",
       "      <td>Fluo</td>\n",
       "      <td>1</td>\n",
       "    </tr>\n",
       "    <tr>\n",
       "      <th>720</th>\n",
       "      <td>Kempe</td>\n",
       "      <td>1</td>\n",
       "    </tr>\n",
       "    <tr>\n",
       "      <th>721</th>\n",
       "      <td>Nuco</td>\n",
       "      <td>1</td>\n",
       "    </tr>\n",
       "  </tbody>\n",
       "</table>\n",
       "<p>722 rows × 2 columns</p>\n",
       "</div>"
      ],
      "text/plain": [
       "                                company  reviews\n",
       "0                               Walmart   133876\n",
       "1                             McDonalds    83556\n",
       "2                            Home Depot    37468\n",
       "3                                Target    33481\n",
       "4                                  AT&T    29630\n",
       "5                           Wells Fargo    28660\n",
       "6                                 Lowes    27877\n",
       "7                                 Macys    26451\n",
       "8                                   UPS    25272\n",
       "9                            CVS Health    24535\n",
       "10                           Amazon.com    21514\n",
       "11                            Starbucks    21390\n",
       "12                Bank of America Corp.    21350\n",
       "13                       Sears Holdings    21125\n",
       "14                              Verizon    20219\n",
       "15                       Dollar General    18546\n",
       "16                             Best Buy    18483\n",
       "17                       JPMorgan Chase    18479\n",
       "18                          J.C. Penney    18221\n",
       "19                                FedEx    16518\n",
       "20                                Kohls    15916\n",
       "21               Marriott International    14233\n",
       "22                              Comcast    12024\n",
       "23                          Dollar Tree    11922\n",
       "24                   UnitedHealth Group    11647\n",
       "25                 Publix Super Markets    11081\n",
       "26                       Kelly Services    11065\n",
       "27                              Aramark    10937\n",
       "28                        Dominos Pizza    10776\n",
       "29               Charter Communications    10685\n",
       "..                                  ...      ...\n",
       "692  International Flavors & Fragrances       19\n",
       "693                             Snap-on       19\n",
       "694        Reinsurance Group of America       19\n",
       "695                          PriceSmart       18\n",
       "696          Tempur Sealy International       18\n",
       "697                              Waters       18\n",
       "698          Federated Mutual Insurance       13\n",
       "699                          CMS Energy       11\n",
       "700                                  RH       11\n",
       "701                 SVB Financial Group       11\n",
       "702                           HRG Group       10\n",
       "703                                 HCP        9\n",
       "704                        W.R. Berkley        9\n",
       "705                   Euronet Worldwide        8\n",
       "706                                 NOW        8\n",
       "707                                Dove        6\n",
       "708                                 KKR        6\n",
       "709                               Deere        5\n",
       "710                                IDEX        5\n",
       "711                            Middleby        5\n",
       "712                           DowDuPont        3\n",
       "713                                 Lea        3\n",
       "714              Westinghouse Air Brake        3\n",
       "715                           NewMarket        2\n",
       "716                             Fortive        2\n",
       "717                              Merito        2\n",
       "718                            Alphabet        1\n",
       "719                                Fluo        1\n",
       "720                               Kempe        1\n",
       "721                                Nuco        1\n",
       "\n",
       "[722 rows x 2 columns]"
      ]
     },
     "execution_count": 54,
     "metadata": {},
     "output_type": "execute_result"
    }
   ],
   "source": [
    "results2"
   ]
  },
  {
   "cell_type": "code",
   "execution_count": null,
   "metadata": {
    "collapsed": true
   },
   "outputs": [],
   "source": []
  },
  {
   "cell_type": "code",
   "execution_count": null,
   "metadata": {
    "collapsed": true
   },
   "outputs": [],
   "source": []
  },
  {
   "cell_type": "code",
   "execution_count": null,
   "metadata": {
    "collapsed": true
   },
   "outputs": [],
   "source": []
  }
 ],
 "metadata": {
  "kernelspec": {
   "display_name": "Python 3",
   "language": "python",
   "name": "python3"
  },
  "language_info": {
   "codemirror_mode": {
    "name": "ipython",
    "version": 3
   },
   "file_extension": ".py",
   "mimetype": "text/x-python",
   "name": "python",
   "nbconvert_exporter": "python",
   "pygments_lexer": "ipython3",
   "version": "3.6.4"
  }
 },
 "nbformat": 4,
 "nbformat_minor": 2
}
